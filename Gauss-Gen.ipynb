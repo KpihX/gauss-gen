{
 "cells": [
  {
   "cell_type": "code",
   "execution_count": null,
   "id": "e9a6a331",
   "metadata": {},
   "outputs": [],
   "source": [
    "import numpy as np\n",
    "import numpy.random as npr"
   ]
  },
  {
   "cell_type": "code",
   "execution_count": null,
   "id": "3398ce0e",
   "metadata": {},
   "outputs": [],
   "source": [
    "def simulation_X(K, theta, n):\n",
    "    simul_Z = npr.choice(range(1, K+1), p=theta[0], size=n)\n",
    "    return [npr.multivariate_normal(theta[1][z], theta[2][z])for z in simul_Z], simul_Z\n"
   ]
  },
  {
   "cell_type": "code",
   "execution_count": null,
   "id": "5a9f0b4b",
   "metadata": {},
   "outputs": [],
   "source": [
    "d = 1\n",
    "K = 5"
   ]
  }
 ],
 "metadata": {
  "kernelspec": {
   "display_name": "base",
   "language": "python",
   "name": "python3"
  },
  "language_info": {
   "name": "python",
   "version": "3.12.7"
  }
 },
 "nbformat": 4,
 "nbformat_minor": 5
}
